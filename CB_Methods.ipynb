{
 "cells": [
  {
   "cell_type": "code",
   "execution_count": 2,
   "metadata": {},
   "outputs": [],
   "source": [
    "import pickle as pkl\n",
    "from tqdm import tqdm\n",
    "from datetime import datetime\n",
    "import numpy as np\n",
    "import pandas as pd"
   ]
  },
  {
   "cell_type": "code",
   "execution_count": 3,
   "metadata": {},
   "outputs": [],
   "source": [
    "def open_file(path):\n",
    "    with open(path, \"rb\") as f:\n",
    "        obj = pkl.load(f)\n",
    "    f.close()\n",
    "    return obj"
   ]
  },
  {
   "cell_type": "code",
   "execution_count": 1,
   "metadata": {},
   "outputs": [
    {
     "ename": "NameError",
     "evalue": "name 'open_file' is not defined",
     "output_type": "error",
     "traceback": [
      "\u001b[0;31m---------------------------------------------------------------------------\u001b[0m",
      "\u001b[0;31mNameError\u001b[0m                                 Traceback (most recent call last)",
      "Cell \u001b[0;32mIn[1], line 1\u001b[0m\n\u001b[0;32m----> 1\u001b[0m item_docs \u001b[39m=\u001b[39m open_file(\u001b[39m\"\u001b[39m\u001b[39mdatasets/out/finetuning_2.pkl\u001b[39m\u001b[39m\"\u001b[39m)\n",
      "\u001b[0;31mNameError\u001b[0m: name 'open_file' is not defined"
     ]
    }
   ],
   "source": [
    "item_docs = open_file(\"datasets/out/finetuning_2.pkl\")"
   ]
  },
  {
   "cell_type": "code",
   "execution_count": 39,
   "metadata": {},
   "outputs": [
    {
     "data": {
      "text/html": [
       "<div>\n",
       "<style scoped>\n",
       "    .dataframe tbody tr th:only-of-type {\n",
       "        vertical-align: middle;\n",
       "    }\n",
       "\n",
       "    .dataframe tbody tr th {\n",
       "        vertical-align: top;\n",
       "    }\n",
       "\n",
       "    .dataframe thead th {\n",
       "        text-align: right;\n",
       "    }\n",
       "</style>\n",
       "<table border=\"1\" class=\"dataframe\">\n",
       "  <thead>\n",
       "    <tr style=\"text-align: right;\">\n",
       "      <th></th>\n",
       "      <th>page</th>\n",
       "      <th>Unnamed: 0</th>\n",
       "      <th>url</th>\n",
       "      <th>issued</th>\n",
       "      <th>modified</th>\n",
       "      <th>title</th>\n",
       "      <th>body</th>\n",
       "      <th>caption</th>\n",
       "      <th>categorie</th>\n",
       "      <th>saida</th>\n",
       "      <th>label_ft</th>\n",
       "      <th>finetune</th>\n",
       "    </tr>\n",
       "  </thead>\n",
       "  <tbody>\n",
       "    <tr>\n",
       "      <th>0</th>\n",
       "      <td>13db0ab1-eea2-4603-84c4-f40a876c7400</td>\n",
       "      <td>0</td>\n",
       "      <td>http://g1.globo.com/am/amazonas/noticia/2022/0...</td>\n",
       "      <td>2022-06-18 20:37:45+00:00</td>\n",
       "      <td>2023-04-15 00:02:08+00:00</td>\n",
       "      <td>Caso Bruno e Dom: 3º suspeito tem prisão tempo...</td>\n",
       "      <td>Após audiência de custódia, a Justiça do Amazo...</td>\n",
       "      <td>Jeferson da Silva Lima foi escoltado por agent...</td>\n",
       "      <td>am</td>\n",
       "      <td>apo audiencia custodia justica amazonas decret...</td>\n",
       "      <td>politica</td>\n",
       "      <td>[0.9932261109352112, 0.9012693762779236, -0.96...</td>\n",
       "    </tr>\n",
       "    <tr>\n",
       "      <th>1</th>\n",
       "      <td>92907b73-5cd3-4184-8d8c-e206aed2bf1c</td>\n",
       "      <td>1</td>\n",
       "      <td>http://g1.globo.com/pa/santarem-regiao/noticia...</td>\n",
       "      <td>2019-06-20 17:19:52+00:00</td>\n",
       "      <td>2023-06-16 20:19:15+00:00</td>\n",
       "      <td>Linguajar dos santarenos é diferenciado e chei...</td>\n",
       "      <td>Vista aérea de Santarém\\nÁdrio Denner/ AD Prod...</td>\n",
       "      <td>As expressões santarenas não significam apenas...</td>\n",
       "      <td>pa</td>\n",
       "      <td>vista aerea santar adrio denner ad producoe pa...</td>\n",
       "      <td>economia</td>\n",
       "      <td>[-0.689832329750061, 0.21615354716777802, 0.80...</td>\n",
       "    </tr>\n",
       "    <tr>\n",
       "      <th>2</th>\n",
       "      <td>61e07f64-cddf-46f2-b50c-ea0a39c22050</td>\n",
       "      <td>2</td>\n",
       "      <td>http://g1.globo.com/mundo/noticia/2022/07/08/e...</td>\n",
       "      <td>2022-07-08 08:55:52+00:00</td>\n",
       "      <td>2023-04-15 04:25:39+00:00</td>\n",
       "      <td>Ex-premiê Shinzo Abe morre após ser baleado no...</td>\n",
       "      <td>Novo vídeo mostra que assassino de Shinzo Abe ...</td>\n",
       "      <td>Ex-primeiro-ministro foi atingido por tiros de...</td>\n",
       "      <td>mundo</td>\n",
       "      <td>video mostrar assassino shinzo abe atirar cost...</td>\n",
       "      <td>mundo</td>\n",
       "      <td>[-0.9931131601333618, -0.6926692724227905, 0.2...</td>\n",
       "    </tr>\n",
       "    <tr>\n",
       "      <th>3</th>\n",
       "      <td>30e2e6c5-554a-48ed-a35f-6c6691c8ac9b</td>\n",
       "      <td>3</td>\n",
       "      <td>http://g1.globo.com/politica/noticia/2021/09/0...</td>\n",
       "      <td>2021-09-09 19:06:46+00:00</td>\n",
       "      <td>2023-06-07 17:44:54+00:00</td>\n",
       "      <td>Relator no STF, Fachin vota contra marco tempo...</td>\n",
       "      <td>Relator no STF, Fachin vota contra marco tempo...</td>\n",
       "      <td>Ministro defendeu que posse indígena é diferen...</td>\n",
       "      <td>politica</td>\n",
       "      <td>relator stf fachin vota marco temporal demarca...</td>\n",
       "      <td>politica</td>\n",
       "      <td>[0.9959969520568848, 0.9293882846832275, -0.97...</td>\n",
       "    </tr>\n",
       "    <tr>\n",
       "      <th>4</th>\n",
       "      <td>9dff71eb-b681-40c7-ac8d-68017ac36675</td>\n",
       "      <td>4</td>\n",
       "      <td>http://g1.globo.com/politica/noticia/2021/09/1...</td>\n",
       "      <td>2021-09-15 19:16:13+00:00</td>\n",
       "      <td>2023-06-07 17:43:39+00:00</td>\n",
       "      <td>\\nApós 2 votos, pedido de vista suspende julga...</td>\n",
       "      <td>Após um pedido de vista (mais tempo para análi...</td>\n",
       "      <td>Pelo marco temporal, índios só podem reivindic...</td>\n",
       "      <td>politica</td>\n",
       "      <td>apo pedido vista analise processo ministro ale...</td>\n",
       "      <td>politica</td>\n",
       "      <td>[0.995829164981842, 0.9453511238098145, -0.949...</td>\n",
       "    </tr>\n",
       "  </tbody>\n",
       "</table>\n",
       "</div>"
      ],
      "text/plain": [
       "                                   page  Unnamed: 0  \\\n",
       "0  13db0ab1-eea2-4603-84c4-f40a876c7400           0   \n",
       "1  92907b73-5cd3-4184-8d8c-e206aed2bf1c           1   \n",
       "2  61e07f64-cddf-46f2-b50c-ea0a39c22050           2   \n",
       "3  30e2e6c5-554a-48ed-a35f-6c6691c8ac9b           3   \n",
       "4  9dff71eb-b681-40c7-ac8d-68017ac36675           4   \n",
       "\n",
       "                                                 url  \\\n",
       "0  http://g1.globo.com/am/amazonas/noticia/2022/0...   \n",
       "1  http://g1.globo.com/pa/santarem-regiao/noticia...   \n",
       "2  http://g1.globo.com/mundo/noticia/2022/07/08/e...   \n",
       "3  http://g1.globo.com/politica/noticia/2021/09/0...   \n",
       "4  http://g1.globo.com/politica/noticia/2021/09/1...   \n",
       "\n",
       "                      issued                   modified  \\\n",
       "0  2022-06-18 20:37:45+00:00  2023-04-15 00:02:08+00:00   \n",
       "1  2019-06-20 17:19:52+00:00  2023-06-16 20:19:15+00:00   \n",
       "2  2022-07-08 08:55:52+00:00  2023-04-15 04:25:39+00:00   \n",
       "3  2021-09-09 19:06:46+00:00  2023-06-07 17:44:54+00:00   \n",
       "4  2021-09-15 19:16:13+00:00  2023-06-07 17:43:39+00:00   \n",
       "\n",
       "                                               title  \\\n",
       "0  Caso Bruno e Dom: 3º suspeito tem prisão tempo...   \n",
       "1  Linguajar dos santarenos é diferenciado e chei...   \n",
       "2  Ex-premiê Shinzo Abe morre após ser baleado no...   \n",
       "3  Relator no STF, Fachin vota contra marco tempo...   \n",
       "4  \\nApós 2 votos, pedido de vista suspende julga...   \n",
       "\n",
       "                                                body  \\\n",
       "0  Após audiência de custódia, a Justiça do Amazo...   \n",
       "1  Vista aérea de Santarém\\nÁdrio Denner/ AD Prod...   \n",
       "2  Novo vídeo mostra que assassino de Shinzo Abe ...   \n",
       "3  Relator no STF, Fachin vota contra marco tempo...   \n",
       "4  Após um pedido de vista (mais tempo para análi...   \n",
       "\n",
       "                                             caption categorie  \\\n",
       "0  Jeferson da Silva Lima foi escoltado por agent...        am   \n",
       "1  As expressões santarenas não significam apenas...        pa   \n",
       "2  Ex-primeiro-ministro foi atingido por tiros de...     mundo   \n",
       "3  Ministro defendeu que posse indígena é diferen...  politica   \n",
       "4  Pelo marco temporal, índios só podem reivindic...  politica   \n",
       "\n",
       "                                               saida  label_ft  \\\n",
       "0  apo audiencia custodia justica amazonas decret...  politica   \n",
       "1  vista aerea santar adrio denner ad producoe pa...  economia   \n",
       "2  video mostrar assassino shinzo abe atirar cost...     mundo   \n",
       "3  relator stf fachin vota marco temporal demarca...  politica   \n",
       "4  apo pedido vista analise processo ministro ale...  politica   \n",
       "\n",
       "                                            finetune  \n",
       "0  [0.9932261109352112, 0.9012693762779236, -0.96...  \n",
       "1  [-0.689832329750061, 0.21615354716777802, 0.80...  \n",
       "2  [-0.9931131601333618, -0.6926692724227905, 0.2...  \n",
       "3  [0.9959969520568848, 0.9293882846832275, -0.97...  \n",
       "4  [0.995829164981842, 0.9453511238098145, -0.949...  "
      ]
     },
     "execution_count": 39,
     "metadata": {},
     "output_type": "execute_result"
    }
   ],
   "source": [
    "item_docs.head()"
   ]
  },
  {
   "cell_type": "code",
   "execution_count": 30,
   "metadata": {},
   "outputs": [
    {
     "data": {
      "text/html": [
       "<div>\n",
       "<style scoped>\n",
       "    .dataframe tbody tr th:only-of-type {\n",
       "        vertical-align: middle;\n",
       "    }\n",
       "\n",
       "    .dataframe tbody tr th {\n",
       "        vertical-align: top;\n",
       "    }\n",
       "\n",
       "    .dataframe thead th {\n",
       "        text-align: right;\n",
       "    }\n",
       "</style>\n",
       "<table border=\"1\" class=\"dataframe\">\n",
       "  <thead>\n",
       "    <tr style=\"text-align: right;\">\n",
       "      <th></th>\n",
       "      <th>userId</th>\n",
       "      <th>history</th>\n",
       "      <th>timestampHistory</th>\n",
       "      <th>timeOnPageHistory</th>\n",
       "      <th>scrollPercentageHistory</th>\n",
       "      <th>pageVisitsCountHistory</th>\n",
       "    </tr>\n",
       "  </thead>\n",
       "  <tbody>\n",
       "    <tr>\n",
       "      <th>0</th>\n",
       "      <td>0</td>\n",
       "      <td>[193275, 158881, 203270]</td>\n",
       "      <td>1657146417045, 1657146605778, 1657146698738</td>\n",
       "      <td>20380, 21184, 35438</td>\n",
       "      <td>50.3, 18.18, 16.46</td>\n",
       "      <td>2, 1, 1</td>\n",
       "    </tr>\n",
       "    <tr>\n",
       "      <th>1</th>\n",
       "      <td>1</td>\n",
       "      <td>[236644, 186368, 154787, 159227, 103615, 23330...</td>\n",
       "      <td>1656684240278, 1656761266729, 1656761528085, 1...</td>\n",
       "      <td>6049, 210489, 8672, 10000, 30000, 123007, 9965...</td>\n",
       "      <td>25.35, 45.66, 35.3, 28.05, 36.53, 47.57, 55.33...</td>\n",
       "      <td>1, 1, 1, 1, 1, 1, 1, 1, 1, 2, 1, 1, 1, 2, 1, 1...</td>\n",
       "    </tr>\n",
       "    <tr>\n",
       "      <th>2</th>\n",
       "      <td>2</td>\n",
       "      <td>[217268, 105647, 37758, 60121, 96848, 4702, 11...</td>\n",
       "      <td>1656678946256, 1656701076495, 1656701882565, 1...</td>\n",
       "      <td>311274, 140000, 32515, 157018, 118689, 159243,...</td>\n",
       "      <td>67.58, 47.22, 41.52, 63.09, 51.38, 65.11, 71.9...</td>\n",
       "      <td>1, 1, 1, 1, 1, 1, 1, 1, 2, 1, 1, 1, 1, 1, 1, 1...</td>\n",
       "    </tr>\n",
       "    <tr>\n",
       "      <th>3</th>\n",
       "      <td>3</td>\n",
       "      <td>[116062, 217268, 63616, 45463, 158309, 234064,...</td>\n",
       "      <td>1658333312180, 1658404553818, 1658408449062, 1...</td>\n",
       "      <td>182696, 91925, 30000, 273655, 126409, 42980, 1...</td>\n",
       "      <td>58.26, 72.66, 22.57, 59.89, 40.36, 36.35, 14.7...</td>\n",
       "      <td>1, 1, 1, 1, 1, 1, 1, 1, 1, 1, 1, 1, 1, 1, 1, 1...</td>\n",
       "    </tr>\n",
       "    <tr>\n",
       "      <th>4</th>\n",
       "      <td>4</td>\n",
       "      <td>[12658, 88597, 148651, 165528]</td>\n",
       "      <td>1658766608801, 1658766608801, 1660084035094, 1...</td>\n",
       "      <td>801396, 801396, 10000, 10000</td>\n",
       "      <td>78.74, 78.74, 16.71, 9.34</td>\n",
       "      <td>7, 7, 1, 1</td>\n",
       "    </tr>\n",
       "  </tbody>\n",
       "</table>\n",
       "</div>"
      ],
      "text/plain": [
       "   userId                                            history  \\\n",
       "0       0                           [193275, 158881, 203270]   \n",
       "1       1  [236644, 186368, 154787, 159227, 103615, 23330...   \n",
       "2       2  [217268, 105647, 37758, 60121, 96848, 4702, 11...   \n",
       "3       3  [116062, 217268, 63616, 45463, 158309, 234064,...   \n",
       "4       4                     [12658, 88597, 148651, 165528]   \n",
       "\n",
       "                                    timestampHistory  \\\n",
       "0        1657146417045, 1657146605778, 1657146698738   \n",
       "1  1656684240278, 1656761266729, 1656761528085, 1...   \n",
       "2  1656678946256, 1656701076495, 1656701882565, 1...   \n",
       "3  1658333312180, 1658404553818, 1658408449062, 1...   \n",
       "4  1658766608801, 1658766608801, 1660084035094, 1...   \n",
       "\n",
       "                                   timeOnPageHistory  \\\n",
       "0                                20380, 21184, 35438   \n",
       "1  6049, 210489, 8672, 10000, 30000, 123007, 9965...   \n",
       "2  311274, 140000, 32515, 157018, 118689, 159243,...   \n",
       "3  182696, 91925, 30000, 273655, 126409, 42980, 1...   \n",
       "4                       801396, 801396, 10000, 10000   \n",
       "\n",
       "                             scrollPercentageHistory  \\\n",
       "0                                 50.3, 18.18, 16.46   \n",
       "1  25.35, 45.66, 35.3, 28.05, 36.53, 47.57, 55.33...   \n",
       "2  67.58, 47.22, 41.52, 63.09, 51.38, 65.11, 71.9...   \n",
       "3  58.26, 72.66, 22.57, 59.89, 40.36, 36.35, 14.7...   \n",
       "4                          78.74, 78.74, 16.71, 9.34   \n",
       "\n",
       "                              pageVisitsCountHistory  \n",
       "0                                            2, 1, 1  \n",
       "1  1, 1, 1, 1, 1, 1, 1, 1, 1, 2, 1, 1, 1, 2, 1, 1...  \n",
       "2  1, 1, 1, 1, 1, 1, 1, 1, 2, 1, 1, 1, 1, 1, 1, 1...  \n",
       "3  1, 1, 1, 1, 1, 1, 1, 1, 1, 1, 1, 1, 1, 1, 1, 1...  \n",
       "4                                         7, 7, 1, 1  "
      ]
     },
     "execution_count": 30,
     "metadata": {},
     "output_type": "execute_result"
    }
   ],
   "source": [
    "user_data = open_file(\"datasets/out/user_iter.pkl\")\n",
    "user_data.head()"
   ]
  },
  {
   "cell_type": "markdown",
   "metadata": {},
   "source": [
    "# Categorias por Usuário -------------------------------------------------------------------------------------------------------"
   ]
  },
  {
   "cell_type": "code",
   "execution_count": 41,
   "metadata": {},
   "outputs": [],
   "source": [
    "# Será que é a validação que importa?\n",
    "user_data = open_file(\"DataPreProcessing/data_pro/train/UserItemIteractionsVal.pkl\")"
   ]
  },
  {
   "cell_type": "code",
   "execution_count": 43,
   "metadata": {},
   "outputs": [
    {
     "data": {
      "text/plain": [
       "[43755, 211444, 12880]"
      ]
     },
     "execution_count": 43,
     "metadata": {},
     "output_type": "execute_result"
    }
   ],
   "source": [
    "user_cat = {}\n",
    "\n",
    "user_history = list(user_data.values())\n",
    "# user_history = list(user_data['history'].values)\n",
    "user_history[0]"
   ]
  },
  {
   "cell_type": "code",
   "execution_count": 32,
   "metadata": {},
   "outputs": [],
   "source": [
    "index2item = open_file(\"datasets/out/index2item.pkl\")"
   ]
  },
  {
   "cell_type": "code",
   "execution_count": 44,
   "metadata": {},
   "outputs": [],
   "source": [
    "itens_cat_aux = list(zip(list(item_docs['page'].values), list(item_docs['label_ft'].values)))\n",
    "itens_cat = {}\n",
    "for doble in itens_cat_aux:\n",
    "    itens_cat[doble[0]] = doble[1]"
   ]
  },
  {
   "cell_type": "code",
   "execution_count": 47,
   "metadata": {},
   "outputs": [
    {
     "name": "stderr",
     "output_type": "stream",
     "text": [
      "User Counting: 100%|██████████| 112184/112184 [00:00<00:00, 854147.81it/s]\n"
     ]
    }
   ],
   "source": [
    "for user, itens in tqdm(user_data.items(), desc=\"User Counting\"):\n",
    "    cats = []\n",
    "    for item in itens:\n",
    "        cat = itens_cat[index2item[item]]\n",
    "        cats.append(cat)\n",
    "    \n",
    "    if user not in user_cat.keys():\n",
    "        user_cat[user] = cats"
   ]
  },
  {
   "cell_type": "code",
   "execution_count": 10,
   "metadata": {},
   "outputs": [],
   "source": [
    "# user_cat = Categorias para cada usuário"
   ]
  },
  {
   "cell_type": "markdown",
   "metadata": {},
   "source": [
    "## Primeiro Filtro para recomendação Personalizada:"
   ]
  },
  {
   "cell_type": "markdown",
   "metadata": {},
   "source": [
    "### Itens filtrados por estado"
   ]
  },
  {
   "cell_type": "code",
   "execution_count": 11,
   "metadata": {},
   "outputs": [],
   "source": [
    "states = [\n",
    "    \"ac\", \"al\", \"ap\", \"am\", \"ba\", \"ce\", \"df\", \"es\", \"go\", \"ma\", \"mt\", \"ms\", \"mg\", \"pa\", \"pb\", \"pr\", \"pe\", \"pi\", \"rj\", \"rn\", \"rs\", \"ro\", \"rr\", \"sc\", \"sp\", \"se\", \"to\"\n",
    "]"
   ]
  },
  {
   "cell_type": "code",
   "execution_count": 12,
   "metadata": {},
   "outputs": [
    {
     "data": {
      "text/plain": [
       "459842"
      ]
     },
     "execution_count": 12,
     "metadata": {},
     "output_type": "execute_result"
    }
   ],
   "source": [
    "user_states = {}\n",
    "for user, cats in user_cat.items():\n",
    "    for cat in cats:\n",
    "        if cat in states:\n",
    "            if user not in user_states.keys():\n",
    "                user_states[user] = cat\n",
    "\n",
    "len(user_states)"
   ]
  },
  {
   "cell_type": "markdown",
   "metadata": {},
   "source": [
    "### Itens mais recentes para cada categoria consumida pelo Usuário"
   ]
  },
  {
   "cell_type": "code",
   "execution_count": 45,
   "metadata": {},
   "outputs": [
    {
     "data": {
      "text/plain": [
       "[193275, 158881, 203270]"
      ]
     },
     "execution_count": 45,
     "metadata": {},
     "output_type": "execute_result"
    }
   ],
   "source": [
    "user_iter = open_file(\"DataPreProcessing/data_pro/train/UserItemIteractionsTrain.pkl\")\n",
    "user_iter[0]"
   ]
  },
  {
   "cell_type": "code",
   "execution_count": 46,
   "metadata": {},
   "outputs": [
    {
     "data": {
      "text/plain": [
       "203270"
      ]
     },
     "execution_count": 46,
     "metadata": {},
     "output_type": "execute_result"
    }
   ],
   "source": [
    "user_last_iter = {user:item[-1] for user,item in user_iter.items()}\n",
    "user_last_iter[0]"
   ]
  },
  {
   "cell_type": "code",
   "execution_count": 15,
   "metadata": {},
   "outputs": [],
   "source": [
    "times = [datetime.strptime(x, \"%Y-%m-%d %H:%M:%S%z\").timestamp() for x in list(item_docs['issued'].values)]\n",
    "item_per_timestamp = {item:timestamp for item,timestamp in list(zip(list(item_docs['page'].values), times))}"
   ]
  },
  {
   "cell_type": "markdown",
   "metadata": {},
   "source": [
    "### Filtrar para apenas os usuários da validação"
   ]
  },
  {
   "cell_type": "code",
   "execution_count": 48,
   "metadata": {},
   "outputs": [],
   "source": [
    "user_val = open_file(\"DataPreProcessing/data_pro/train/UserItemIteractionsVal.pkl\")"
   ]
  },
  {
   "cell_type": "code",
   "execution_count": 49,
   "metadata": {},
   "outputs": [],
   "source": [
    "user_last_iter = {user:time for user, time in user_last_iter.items() if user in user_val.keys()}"
   ]
  },
  {
   "cell_type": "code",
   "execution_count": 18,
   "metadata": {},
   "outputs": [],
   "source": [
    "from collections import defaultdict"
   ]
  },
  {
   "cell_type": "code",
   "execution_count": 25,
   "metadata": {},
   "outputs": [
    {
     "name": "stderr",
     "output_type": "stream",
     "text": [
      "User Counting: 100%|██████████| 112184/112184 [10:51<00:00, 172.14it/s]\n"
     ]
    }
   ],
   "source": [
    "# Pegando os itens mais recentes para cada usuário\n",
    "# recently_items2user = {}\n",
    "\n",
    "# for user, last_item in tqdm(user_last_iter.items(), desc=\"User Counting\"):\n",
    "#     last_timestamp_item = item_per_timestamp[index2item[last_item]]\n",
    "#     for key, time in item_per_timestamp.items():\n",
    "#         if time > last_timestamp_item:\n",
    "#             if user not in recently_items2user.keys():\n",
    "#                 recently_items2user[user] = [key]\n",
    "#             else:\n",
    "#                 recently_items2user[user].append(key)\n",
    "\n",
    "\n",
    "# recently_items2user = defaultdict(list)  # Dicionário de listas para armazenar itens recentes por usuário\n",
    "# recent_items = set()  # Conjunto para armazenar os itens recentes\n",
    "\n",
    "# for user, last_item in tqdm(user_last_iter.items(), desc=\"User Counting\"):\n",
    "#     last_timestamp_item = item_per_timestamp[index2item[last_item]]\n",
    "    \n",
    "#     # Filtra os itens recentes com timestamps maiores que o do último item do usuário\n",
    "#     recent_items.update(key for key, time in item_per_timestamp.items() if time > last_timestamp_item)\n",
    "    \n",
    "#     # Armazena os itens recentes no dicionário do usuário correspondente\n",
    "#     recently_items2user[user].extend(recent_items)\n",
    "\n",
    "# # Convertendo o conjunto de itens recentes em lista para cada usuário\n",
    "# recently_items2user = {user: list(items) for user, items in recently_items2user.items()}\n",
    "\n",
    "# recently_items2user = defaultdict(list)\n",
    "\n",
    "# for user, last_item in tqdm(user_last_iter.items(), desc=\"User Counting\"):\n",
    "#     last_timestamp_item = item_per_timestamp[index2item[last_item]]\n",
    "\n",
    "#     items_cand = [key for key, time in item_per_timestamp.items() if time > last_timestamp_item]\n",
    "\n",
    "#     recently_items2user[user] = items_cand\n",
    "\n",
    "# save(\"FilterFeatures/recently_user_news.pkl\", recently_items2user)"
   ]
  },
  {
   "cell_type": "code",
   "execution_count": 21,
   "metadata": {},
   "outputs": [
    {
     "ename": "EOFError",
     "evalue": "Ran out of input",
     "output_type": "error",
     "traceback": [
      "\u001b[0;31m---------------------------------------------------------------------------\u001b[0m",
      "\u001b[0;31mEOFError\u001b[0m                                  Traceback (most recent call last)",
      "Cell \u001b[0;32mIn[21], line 1\u001b[0m\n\u001b[0;32m----> 1\u001b[0m recently_items2user \u001b[39m=\u001b[39m open_file(\u001b[39m\"\u001b[39;49m\u001b[39mFilterFeatures/recently_user_news.pkl\u001b[39;49m\u001b[39m\"\u001b[39;49m)\n",
      "Cell \u001b[0;32mIn[2], line 3\u001b[0m, in \u001b[0;36mopen_file\u001b[0;34m(path)\u001b[0m\n\u001b[1;32m      1\u001b[0m \u001b[39mdef\u001b[39;00m \u001b[39mopen_file\u001b[39m(path):\n\u001b[1;32m      2\u001b[0m     \u001b[39mwith\u001b[39;00m \u001b[39mopen\u001b[39m(path, \u001b[39m\"\u001b[39m\u001b[39mrb\u001b[39m\u001b[39m\"\u001b[39m) \u001b[39mas\u001b[39;00m f:\n\u001b[0;32m----> 3\u001b[0m         obj \u001b[39m=\u001b[39m pkl\u001b[39m.\u001b[39;49mload(f)\n\u001b[1;32m      4\u001b[0m     f\u001b[39m.\u001b[39mclose()\n\u001b[1;32m      5\u001b[0m     \u001b[39mreturn\u001b[39;00m obj\n",
      "\u001b[0;31mEOFError\u001b[0m: Ran out of input"
     ]
    }
   ],
   "source": [
    "recently_items2user = open_file(\"FilterFeatures/recently_user_news.pkl\")"
   ]
  },
  {
   "cell_type": "markdown",
   "metadata": {},
   "source": [
    "### Backup"
   ]
  },
  {
   "cell_type": "code",
   "execution_count": 15,
   "metadata": {},
   "outputs": [],
   "source": [
    "def save(path, obj):\n",
    "    with open(path, \"wb\") as f:\n",
    "        pkl.dump(obj, f)\n",
    "        f.close()"
   ]
  },
  {
   "cell_type": "code",
   "execution_count": 48,
   "metadata": {},
   "outputs": [],
   "source": [
    "save(\"FilterFeatures/itens_cat_val.pkl\", itens_cat)\n",
    "save(\"FilterFeatures/user_cat_val.pkl\", user_cat)"
   ]
  },
  {
   "cell_type": "markdown",
   "metadata": {},
   "source": [
    "## Teste: Itens mais recentes filtrados por categoria"
   ]
  },
  {
   "cell_type": "code",
   "execution_count": 26,
   "metadata": {},
   "outputs": [],
   "source": [
    "# rec_cat_itens2user = defaultdict(list)"
   ]
  },
  {
   "cell_type": "code",
   "execution_count": 27,
   "metadata": {},
   "outputs": [
    {
     "name": "stderr",
     "output_type": "stream",
     "text": [
      "User Counting...:   0%|          | 0/112184 [00:00<?, ?it/s]"
     ]
    },
    {
     "name": "stderr",
     "output_type": "stream",
     "text": [
      "User Counting...: 100%|██████████| 112184/112184 [14:20<00:00, 130.30it/s]\n"
     ]
    }
   ],
   "source": [
    "# for user, itens in tqdm(recently_items2user.items(), desc=\"User Counting...\"):\n",
    "#     itens_cand = []\n",
    "#     for item in itens:\n",
    "#         if itens_cat[item] in user_cat[user]:\n",
    "#             itens_cand.append(item)\n",
    "\n",
    "#     if len(itens_cand) < 10:\n",
    "#         itens_cand = itens\n",
    "\n",
    "#     if user not in rec_cat_itens2user.keys():\n",
    "#         rec_cat_itens2user[user] = itens_cand"
   ]
  },
  {
   "cell_type": "code",
   "execution_count": null,
   "metadata": {},
   "outputs": [],
   "source": [
    "means = [len(itens) for itens in rec_cat_itens2user.values()]"
   ]
  },
  {
   "cell_type": "code",
   "execution_count": 28,
   "metadata": {},
   "outputs": [],
   "source": [
    "# save(\"FilterFeatures/recently_user_cat_news.pkl\", rec_cat_itens2user)"
   ]
  },
  {
   "cell_type": "markdown",
   "metadata": {},
   "source": [
    "# Similarity User Item more Recently"
   ]
  },
  {
   "cell_type": "code",
   "execution_count": 3,
   "metadata": {},
   "outputs": [],
   "source": [
    "recently_items2user = open_file(\"FilterFeatures/recently_user_news.pkl\")"
   ]
  },
  {
   "cell_type": "code",
   "execution_count": 32,
   "metadata": {},
   "outputs": [],
   "source": [
    "recently_items2user_cat = open_file(\"FilterFeatures/recently_user_cat_news.pkl\")"
   ]
  },
  {
   "cell_type": "code",
   "execution_count": 20,
   "metadata": {},
   "outputs": [
    {
     "name": "stderr",
     "output_type": "stream",
     "text": [
      "  4%|▍         | 24149/577942 [06:50<2:36:51, 58.84it/s]\n"
     ]
    }
   ],
   "source": [
    "item_ft2 = open_file(\"datasets/out/finetuning_2.pkl\")"
   ]
  },
  {
   "cell_type": "code",
   "execution_count": 22,
   "metadata": {},
   "outputs": [],
   "source": [
    "item_doc_ft2 = {item:doc for item, doc in list(zip(list(item_ft2['page'].values), list(item_ft2['finetune'].values)))}"
   ]
  },
  {
   "cell_type": "code",
   "execution_count": 4,
   "metadata": {},
   "outputs": [],
   "source": [
    "user_ft2 = open_file(\"datasets/out/user_finetune_title.pkl\")"
   ]
  },
  {
   "cell_type": "code",
   "execution_count": 58,
   "metadata": {},
   "outputs": [
    {
     "data": {
      "text/plain": [
       "(577942, 3)"
      ]
     },
     "execution_count": 58,
     "metadata": {},
     "output_type": "execute_result"
    }
   ],
   "source": [
    "user_ft2.shape"
   ]
  },
  {
   "cell_type": "code",
   "execution_count": 7,
   "metadata": {},
   "outputs": [],
   "source": [
    "index2user = open_file(\"datasets/out/index2user.pkl\")"
   ]
  },
  {
   "cell_type": "code",
   "execution_count": 43,
   "metadata": {},
   "outputs": [],
   "source": [
    "index2item = open_file(\"datasets/out/index2item.pkl\")"
   ]
  },
  {
   "cell_type": "code",
   "execution_count": 8,
   "metadata": {},
   "outputs": [],
   "source": [
    "# Filtrar usuários do teste que estão na validação. Tenho que passar indexes para hashs.\n",
    "user_hashs = [index2user[x] for x in user_val.keys()]"
   ]
  },
  {
   "cell_type": "code",
   "execution_count": 12,
   "metadata": {},
   "outputs": [
    {
     "name": "stderr",
     "output_type": "stream",
     "text": [
      "100%|██████████| 577942/577942 [00:00<00:00, 4961255.43it/s]\n"
     ]
    }
   ],
   "source": [
    "user_doc_ft2 = {user:doc for user, doc in tqdm(list(zip(list(user_ft2['userId'].values), list(user_ft2['finetune'].values))))}"
   ]
  },
  {
   "cell_type": "code",
   "execution_count": 23,
   "metadata": {},
   "outputs": [],
   "source": [
    "del user_ft2, item_ft2"
   ]
  },
  {
   "cell_type": "code",
   "execution_count": 38,
   "metadata": {},
   "outputs": [
    {
     "name": "stderr",
     "output_type": "stream",
     "text": [
      "User Counting:   0%|          | 5/112184 [00:06<37:37:46,  1.21s/it]\n"
     ]
    },
    {
     "ename": "KeyboardInterrupt",
     "evalue": "",
     "output_type": "error",
     "traceback": [
      "\u001b[0;31m---------------------------------------------------------------------------\u001b[0m",
      "\u001b[0;31mKeyboardInterrupt\u001b[0m                         Traceback (most recent call last)",
      "Cell \u001b[0;32mIn[38], line 14\u001b[0m\n\u001b[1;32m     11\u001b[0m     mean2 \u001b[39m=\u001b[39m np\u001b[39m.\u001b[39mmean(item_doc)\n\u001b[1;32m     13\u001b[0m     centered1 \u001b[39m=\u001b[39m user_doc \u001b[39m-\u001b[39m mean1\n\u001b[0;32m---> 14\u001b[0m     centered2 \u001b[39m=\u001b[39m item_doc \u001b[39m-\u001b[39;49m mean2\n\u001b[1;32m     16\u001b[0m     correlation \u001b[39m=\u001b[39m np\u001b[39m.\u001b[39msum(centered1 \u001b[39m*\u001b[39m centered2) \u001b[39m/\u001b[39m (np\u001b[39m.\u001b[39msqrt(np\u001b[39m.\u001b[39msum(centered1 \u001b[39m*\u001b[39m\u001b[39m*\u001b[39m \u001b[39m2\u001b[39m)) \u001b[39m*\u001b[39m np\u001b[39m.\u001b[39msqrt(np\u001b[39m.\u001b[39msum(centered2 \u001b[39m*\u001b[39m\u001b[39m*\u001b[39m \u001b[39m2\u001b[39m)))\n\u001b[1;32m     18\u001b[0m \u001b[39mif\u001b[39;00m user \u001b[39mnot\u001b[39;00m \u001b[39min\u001b[39;00m user_item_sim\u001b[39m.\u001b[39mkeys():\n",
      "\u001b[0;31mKeyboardInterrupt\u001b[0m: "
     ]
    }
   ],
   "source": [
    "user_item_sim = {}\n",
    "\n",
    "for user, itens in tqdm(recently_items2user_cat.items() ,desc=\"User Counting\"):\n",
    "    user_similarities = []\n",
    "    user_doc = user_doc_ft2[index2user[user]]\n",
    "    mean1 = np.mean(user_doc)\n",
    "    \n",
    "    for item in itens:\n",
    "        item_doc = item_doc_ft2[item]\n",
    "\n",
    "        mean2 = np.mean(item_doc)\n",
    "\n",
    "        centered1 = user_doc - mean1\n",
    "        centered2 = item_doc - mean2\n",
    "\n",
    "        correlation = np.sum(centered1 * centered2) / (np.sqrt(np.sum(centered1 ** 2)) * np.sqrt(np.sum(centered2 ** 2)))\n",
    "\n",
    "    if user not in user_item_sim.keys():\n",
    "        user_item_sim[user] = user_similarities"
   ]
  },
  {
   "cell_type": "code",
   "execution_count": 48,
   "metadata": {},
   "outputs": [
    {
     "data": {
      "text/plain": [
       "1.0"
      ]
     },
     "execution_count": 48,
     "metadata": {},
     "output_type": "execute_result"
    }
   ],
   "source": [
    "np.corrcoef([1,2,3], [1,2,3])[0, 1]"
   ]
  },
  {
   "cell_type": "code",
   "execution_count": 54,
   "metadata": {},
   "outputs": [
    {
     "ename": "KeyError",
     "evalue": "'c1e8d644329a78ea1f994292db624c57980b2886cfbc2d49cc3ae12fb5a533af'",
     "output_type": "error",
     "traceback": [
      "\u001b[0;31m---------------------------------------------------------------------------\u001b[0m",
      "\u001b[0;31mKeyError\u001b[0m                                  Traceback (most recent call last)",
      "File \u001b[0;32m~/News/.venv/lib/python3.10/site-packages/pandas/core/indexes/base.py:3653\u001b[0m, in \u001b[0;36mIndex.get_loc\u001b[0;34m(self, key)\u001b[0m\n\u001b[1;32m   3652\u001b[0m \u001b[39mtry\u001b[39;00m:\n\u001b[0;32m-> 3653\u001b[0m     \u001b[39mreturn\u001b[39;00m \u001b[39mself\u001b[39;49m\u001b[39m.\u001b[39;49m_engine\u001b[39m.\u001b[39;49mget_loc(casted_key)\n\u001b[1;32m   3654\u001b[0m \u001b[39mexcept\u001b[39;00m \u001b[39mKeyError\u001b[39;00m \u001b[39mas\u001b[39;00m err:\n",
      "File \u001b[0;32m~/News/.venv/lib/python3.10/site-packages/pandas/_libs/index.pyx:147\u001b[0m, in \u001b[0;36mpandas._libs.index.IndexEngine.get_loc\u001b[0;34m()\u001b[0m\n",
      "File \u001b[0;32m~/News/.venv/lib/python3.10/site-packages/pandas/_libs/index.pyx:176\u001b[0m, in \u001b[0;36mpandas._libs.index.IndexEngine.get_loc\u001b[0;34m()\u001b[0m\n",
      "File \u001b[0;32mpandas/_libs/hashtable_class_helper.pxi:7080\u001b[0m, in \u001b[0;36mpandas._libs.hashtable.PyObjectHashTable.get_item\u001b[0;34m()\u001b[0m\n",
      "File \u001b[0;32mpandas/_libs/hashtable_class_helper.pxi:7088\u001b[0m, in \u001b[0;36mpandas._libs.hashtable.PyObjectHashTable.get_item\u001b[0;34m()\u001b[0m\n",
      "\u001b[0;31mKeyError\u001b[0m: 'c1e8d644329a78ea1f994292db624c57980b2886cfbc2d49cc3ae12fb5a533af'",
      "\nThe above exception was the direct cause of the following exception:\n",
      "\u001b[0;31mKeyError\u001b[0m                                  Traceback (most recent call last)",
      "Cell \u001b[0;32mIn[54], line 1\u001b[0m\n\u001b[0;32m----> 1\u001b[0m user_ft2[\u001b[39m'\u001b[39;49m\u001b[39mc1e8d644329a78ea1f994292db624c57980b2886cfbc2d49cc3ae12fb5a533af\u001b[39;49m\u001b[39m'\u001b[39;49m]\n",
      "File \u001b[0;32m~/News/.venv/lib/python3.10/site-packages/pandas/core/frame.py:3761\u001b[0m, in \u001b[0;36mDataFrame.__getitem__\u001b[0;34m(self, key)\u001b[0m\n\u001b[1;32m   3759\u001b[0m \u001b[39mif\u001b[39;00m \u001b[39mself\u001b[39m\u001b[39m.\u001b[39mcolumns\u001b[39m.\u001b[39mnlevels \u001b[39m>\u001b[39m \u001b[39m1\u001b[39m:\n\u001b[1;32m   3760\u001b[0m     \u001b[39mreturn\u001b[39;00m \u001b[39mself\u001b[39m\u001b[39m.\u001b[39m_getitem_multilevel(key)\n\u001b[0;32m-> 3761\u001b[0m indexer \u001b[39m=\u001b[39m \u001b[39mself\u001b[39;49m\u001b[39m.\u001b[39;49mcolumns\u001b[39m.\u001b[39;49mget_loc(key)\n\u001b[1;32m   3762\u001b[0m \u001b[39mif\u001b[39;00m is_integer(indexer):\n\u001b[1;32m   3763\u001b[0m     indexer \u001b[39m=\u001b[39m [indexer]\n",
      "File \u001b[0;32m~/News/.venv/lib/python3.10/site-packages/pandas/core/indexes/base.py:3655\u001b[0m, in \u001b[0;36mIndex.get_loc\u001b[0;34m(self, key)\u001b[0m\n\u001b[1;32m   3653\u001b[0m     \u001b[39mreturn\u001b[39;00m \u001b[39mself\u001b[39m\u001b[39m.\u001b[39m_engine\u001b[39m.\u001b[39mget_loc(casted_key)\n\u001b[1;32m   3654\u001b[0m \u001b[39mexcept\u001b[39;00m \u001b[39mKeyError\u001b[39;00m \u001b[39mas\u001b[39;00m err:\n\u001b[0;32m-> 3655\u001b[0m     \u001b[39mraise\u001b[39;00m \u001b[39mKeyError\u001b[39;00m(key) \u001b[39mfrom\u001b[39;00m \u001b[39merr\u001b[39;00m\n\u001b[1;32m   3656\u001b[0m \u001b[39mexcept\u001b[39;00m \u001b[39mTypeError\u001b[39;00m:\n\u001b[1;32m   3657\u001b[0m     \u001b[39m# If we have a listlike key, _check_indexing_error will raise\u001b[39;00m\n\u001b[1;32m   3658\u001b[0m     \u001b[39m#  InvalidIndexError. Otherwise we fall through and re-raise\u001b[39;00m\n\u001b[1;32m   3659\u001b[0m     \u001b[39m#  the TypeError.\u001b[39;00m\n\u001b[1;32m   3660\u001b[0m     \u001b[39mself\u001b[39m\u001b[39m.\u001b[39m_check_indexing_error(key)\n",
      "\u001b[0;31mKeyError\u001b[0m: 'c1e8d644329a78ea1f994292db624c57980b2886cfbc2d49cc3ae12fb5a533af'"
     ]
    }
   ],
   "source": [
    "user_ft2['c1e8d644329a78ea1f994292db624c57980b2886cfbc2d49cc3ae12fb5a533af']"
   ]
  },
  {
   "cell_type": "markdown",
   "metadata": {},
   "source": [
    "# Recomendando itens mais recentes relevantes a cada categoria"
   ]
  },
  {
   "cell_type": "code",
   "execution_count": 40,
   "metadata": {},
   "outputs": [
    {
     "data": {
      "text/html": [
       "<div>\n",
       "<style scoped>\n",
       "    .dataframe tbody tr th:only-of-type {\n",
       "        vertical-align: middle;\n",
       "    }\n",
       "\n",
       "    .dataframe tbody tr th {\n",
       "        vertical-align: top;\n",
       "    }\n",
       "\n",
       "    .dataframe thead th {\n",
       "        text-align: right;\n",
       "    }\n",
       "</style>\n",
       "<table border=\"1\" class=\"dataframe\">\n",
       "  <thead>\n",
       "    <tr style=\"text-align: right;\">\n",
       "      <th></th>\n",
       "      <th>user</th>\n",
       "      <th>item_validacao</th>\n",
       "      <th>item_candidate</th>\n",
       "    </tr>\n",
       "  </thead>\n",
       "  <tbody>\n",
       "    <tr>\n",
       "      <th>0</th>\n",
       "      <td>3</td>\n",
       "      <td>[43755, 211444, 12880]</td>\n",
       "      <td>[43755, 211444, 12880, 120018, 155137, 100894,...</td>\n",
       "    </tr>\n",
       "    <tr>\n",
       "      <th>1</th>\n",
       "      <td>4</td>\n",
       "      <td>[148651, 165528]</td>\n",
       "      <td>[148651, 165528, 120018, 155137, 100894, 17857...</td>\n",
       "    </tr>\n",
       "    <tr>\n",
       "      <th>2</th>\n",
       "      <td>5</td>\n",
       "      <td>[167094]</td>\n",
       "      <td>[167094, 120018, 155137, 100894, 178577, 12880...</td>\n",
       "    </tr>\n",
       "    <tr>\n",
       "      <th>3</th>\n",
       "      <td>7</td>\n",
       "      <td>[158989]</td>\n",
       "      <td>[158989, 120018, 155137, 100894, 178577, 12880...</td>\n",
       "    </tr>\n",
       "    <tr>\n",
       "      <th>4</th>\n",
       "      <td>8</td>\n",
       "      <td>[148623]</td>\n",
       "      <td>[148623, 120018, 155137, 100894, 178577, 12880...</td>\n",
       "    </tr>\n",
       "  </tbody>\n",
       "</table>\n",
       "</div>"
      ],
      "text/plain": [
       "   user          item_validacao  \\\n",
       "0     3  [43755, 211444, 12880]   \n",
       "1     4        [148651, 165528]   \n",
       "2     5                [167094]   \n",
       "3     7                [158989]   \n",
       "4     8                [148623]   \n",
       "\n",
       "                                      item_candidate  \n",
       "0  [43755, 211444, 12880, 120018, 155137, 100894,...  \n",
       "1  [148651, 165528, 120018, 155137, 100894, 17857...  \n",
       "2  [167094, 120018, 155137, 100894, 178577, 12880...  \n",
       "3  [158989, 120018, 155137, 100894, 178577, 12880...  \n",
       "4  [148623, 120018, 155137, 100894, 178577, 12880...  "
      ]
     },
     "execution_count": 40,
     "metadata": {},
     "output_type": "execute_result"
    }
   ],
   "source": [
    "data_val = open_file(\"datasets/out/df_validacao_candidate.pkl\")\n",
    "data_val.head()"
   ]
  },
  {
   "cell_type": "code",
   "execution_count": 41,
   "metadata": {},
   "outputs": [],
   "source": [
    "user_val_itens = {user:itens for user, itens in list(zip(list(data_val['user'].values), list(data_val['item_candidate'].values)))}"
   ]
  },
  {
   "cell_type": "code",
   "execution_count": 42,
   "metadata": {},
   "outputs": [],
   "source": [
    "out = {\n",
    "    \"userId\": [],\n",
    "    \"acessos_futuros\": []\n",
    "}"
   ]
  },
  {
   "cell_type": "code",
   "execution_count": 59,
   "metadata": {},
   "outputs": [
    {
     "name": "stderr",
     "output_type": "stream",
     "text": [
      "100%|██████████| 112184/112184 [00:00<00:00, 370580.17it/s]\n"
     ]
    }
   ],
   "source": [
    "users = []\n",
    "access = []\n",
    "\n",
    "for user, itens in tqdm(user_val_itens.items()):\n",
    "\n",
    "    count = 0\n",
    "    old_access = itens[-10:]\n",
    "    for item in old_access:\n",
    "        users.append(index2user[user])\n",
    "        access.append(index2item[item])\n",
    "        count += 1\n",
    "\n",
    "        if count == 10:\n",
    "            break\n",
    "    \n",
    "out['userId'] = users\n",
    "out['acessos_futuros'] = access"
   ]
  },
  {
   "cell_type": "code",
   "execution_count": 60,
   "metadata": {},
   "outputs": [],
   "source": [
    "df = pd.DataFrame(out)"
   ]
  },
  {
   "cell_type": "code",
   "execution_count": 61,
   "metadata": {},
   "outputs": [],
   "source": [
    "df.to_csv(\"results/teste_val.csv\", index=False)"
   ]
  },
  {
   "cell_type": "markdown",
   "metadata": {},
   "source": [
    "# Recomendando itens a partir da série temporal de categorias do usuário"
   ]
  },
  {
   "cell_type": "code",
   "execution_count": 1,
   "metadata": {},
   "outputs": [],
   "source": [
    "# Pegar itens mais recentes para cada usuário\n",
    "# Pegar a sequencia de categorias consumidas por cada usuário\n",
    "# Recomendar um item da categoria mais próximo ao ultimo timestamp de cada user"
   ]
  },
  {
   "cell_type": "code",
   "execution_count": 6,
   "metadata": {},
   "outputs": [],
   "source": [
    "user_cat = open_file(\"FilterFeatures/user_cat.pkl\")\n",
    "item_cat = open_file(\"FilterFeatures/itens_cat.pkl\")"
   ]
  },
  {
   "cell_type": "code",
   "execution_count": 51,
   "metadata": {},
   "outputs": [],
   "source": [
    "index2item = open_file(\"datasets/out/index2item.pkl\")\n",
    "index2user = open_file(\"datasets/out/index2user.pkl\")"
   ]
  },
  {
   "cell_type": "code",
   "execution_count": 8,
   "metadata": {},
   "outputs": [],
   "source": [
    "times = [datetime.strptime(x, \"%Y-%m-%d %H:%M:%S%z\").timestamp() for x in list(item_docs['issued'].values)]\n",
    "item_per_timestamp = {item:timestamp for item,timestamp in list(zip(list(item_docs['page'].values), times))}"
   ]
  }
 ],
 "metadata": {
  "kernelspec": {
   "display_name": ".venv",
   "language": "python",
   "name": "python3"
  },
  "language_info": {
   "codemirror_mode": {
    "name": "ipython",
    "version": 3
   },
   "file_extension": ".py",
   "mimetype": "text/x-python",
   "name": "python",
   "nbconvert_exporter": "python",
   "pygments_lexer": "ipython3",
   "version": "3.10.12"
  },
  "orig_nbformat": 4
 },
 "nbformat": 4,
 "nbformat_minor": 2
}
