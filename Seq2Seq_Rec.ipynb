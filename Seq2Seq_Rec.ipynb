{
 "cells": [
  {
   "cell_type": "code",
   "execution_count": 1,
   "metadata": {},
   "outputs": [],
   "source": [
    "import pickle as pkl\n",
    "from tqdm import tqdm\n",
    "from datetime import datetime\n",
    "import numpy as np\n",
    "import pandas as pd\n",
    "from collections import defaultdict\n",
    "import math\n",
    "import torch"
   ]
  },
  {
   "cell_type": "code",
   "execution_count": 2,
   "metadata": {},
   "outputs": [],
   "source": [
    "def open_file(path):\n",
    "    with open(path, \"rb\") as f:\n",
    "        obj = pkl.load(f)\n",
    "    f.close()\n",
    "    return obj"
   ]
  },
  {
   "cell_type": "code",
   "execution_count": 3,
   "metadata": {},
   "outputs": [],
   "source": [
    "user_cat = open_file(\"FilterFeatures/user_cat_val.pkl\")\n",
    "item_cat = open_file(\"FilterFeatures/itens_cat_val.pkl\")\n",
    "index2item = open_file(\"datasets/out/index2item.pkl\")\n",
    "index2user = open_file(\"datasets/out/index2user.pkl\")"
   ]
  },
  {
   "cell_type": "code",
   "execution_count": 30,
   "metadata": {},
   "outputs": [],
   "source": [
    "# Quero pegar a sequencia de itens da validação e recomendar os meus itens do treino na mesma sequencia"
   ]
  },
  {
   "cell_type": "code",
   "execution_count": 38,
   "metadata": {},
   "outputs": [],
   "source": [
    "user_doc = open_file(\"DataPreProcessing/data_pro/train/User2DocumentMean.pkl\")"
   ]
  },
  {
   "cell_type": "code",
   "execution_count": 4,
   "metadata": {},
   "outputs": [],
   "source": [
    "item_doc = open_file(\"DataPreProcessing/data_pro/train/Item2Document.pkl\")"
   ]
  },
  {
   "cell_type": "code",
   "execution_count": 5,
   "metadata": {},
   "outputs": [],
   "source": [
    "item2index = open_file(\"datasets/out/item2index.pkl\")\n",
    "user2index = open_file(\"datasets/out/user2index.pkl\")"
   ]
  },
  {
   "cell_type": "code",
   "execution_count": 6,
   "metadata": {},
   "outputs": [],
   "source": [
    "user_train = open_file(\"DataPreProcessing/data_pro/train/UserItemIteractionsTrain.pkl\")"
   ]
  },
  {
   "cell_type": "code",
   "execution_count": 7,
   "metadata": {},
   "outputs": [],
   "source": [
    "# Users da validação\n",
    "user_val = open_file(\"DataPreProcessing/data_pro/train/UserItemIteractionsVal.pkl\")\n",
    "users_validation = user_val.keys()"
   ]
  },
  {
   "cell_type": "markdown",
   "metadata": {},
   "source": [
    "### Itens por Timestamp"
   ]
  },
  {
   "cell_type": "code",
   "execution_count": 8,
   "metadata": {},
   "outputs": [],
   "source": [
    "item_docs = open_file(\"datasets/out/finetuning_2.pkl\")"
   ]
  },
  {
   "cell_type": "code",
   "execution_count": 4,
   "metadata": {},
   "outputs": [],
   "source": [
    "times = [datetime.strptime(x, \"%Y-%m-%d %H:%M:%S%z\").timestamp() for x in list(item_docs['issued'].values)]\n",
    "item_per_timestamp = {item:timestamp for item,timestamp in list(zip(list(item_docs['page'].values), times))}"
   ]
  },
  {
   "cell_type": "code",
   "execution_count": 6,
   "metadata": {},
   "outputs": [],
   "source": [
    "save(\"FilterFeatures/item_timestamp.pkl\", item_per_timestamp)"
   ]
  },
  {
   "cell_type": "markdown",
   "metadata": {},
   "source": [
    "### User por ultimo item consumido"
   ]
  },
  {
   "cell_type": "code",
   "execution_count": 77,
   "metadata": {},
   "outputs": [],
   "source": [
    "user_data = open_file(\"datasets/out/user_iter.pkl\")"
   ]
  },
  {
   "cell_type": "code",
   "execution_count": 78,
   "metadata": {},
   "outputs": [],
   "source": [
    "user_train = open_file(\"DataPreProcessing/data_pro/train/UserItemIteractionsTrain.pkl\")"
   ]
  },
  {
   "cell_type": "code",
   "execution_count": 79,
   "metadata": {},
   "outputs": [],
   "source": [
    "user_last_iter = {user:item[-1] for user,item in user_train.items()}"
   ]
  },
  {
   "cell_type": "markdown",
   "metadata": {},
   "source": [
    "### User por ultimo timestamp consumido"
   ]
  },
  {
   "cell_type": "code",
   "execution_count": 80,
   "metadata": {},
   "outputs": [],
   "source": [
    "user_last_timestamp = {user:item_per_timestamp[index2item[item]] for user, item in user_last_iter.items()}"
   ]
  },
  {
   "cell_type": "markdown",
   "metadata": {},
   "source": [
    "### Modificando USER_CAT para pegar a sequencia de categorias consumidas pelo meu usuário"
   ]
  },
  {
   "cell_type": "code",
   "execution_count": 108,
   "metadata": {},
   "outputs": [],
   "source": [
    "user_cat_new = {}\n",
    "\n",
    "for user, cats in user_cat.items():\n",
    "    while len(cats) < 10:\n",
    "        cats.extend(cats)\n",
    "        cats = cats[:10]\n",
    "\n",
    "    if len(cats) > 10:\n",
    "        cats = cats[:10]\n",
    "\n",
    "    user_cat_new[user] = cats"
   ]
  },
  {
   "cell_type": "code",
   "execution_count": 82,
   "metadata": {},
   "outputs": [],
   "source": [
    "user_last_timestamp = {user:time for user, time in user_last_timestamp.items() if user in users_validation}"
   ]
  },
  {
   "cell_type": "markdown",
   "metadata": {},
   "source": [
    "### Filtrando itens por recencia"
   ]
  },
  {
   "cell_type": "code",
   "execution_count": 109,
   "metadata": {},
   "outputs": [],
   "source": [
    "# Crie um dicionário de itens por categoria\n",
    "items_by_category = defaultdict(list)\n",
    "for item, category in item_cat.items():\n",
    "    items_by_category[category].append(item)\n",
    "\n",
    "for cat, itens in items_by_category.items():\n",
    "    itens = [x for x in itens if \"esid\" not in x]\n",
    "    items_by_category[cat] = itens"
   ]
  },
  {
   "cell_type": "code",
   "execution_count": 110,
   "metadata": {},
   "outputs": [],
   "source": [
    "# Função para obter o timestamp de um item\n",
    "def get_item_timestamp(item):\n",
    "    return item_per_timestamp.get(item, 0)\n",
    "\n",
    "# Listas ordenadas por itens menos recentes de cada categoria\n",
    "ordered_categoria_itens = {\n",
    "    categoria: sorted(itens, key=get_item_timestamp, reverse=True)\n",
    "    for categoria, itens in items_by_category.items()\n",
    "}"
   ]
  },
  {
   "cell_type": "markdown",
   "metadata": {},
   "source": [
    "## Mais recentes e baseados em categoria para cada usuário"
   ]
  },
  {
   "cell_type": "code",
   "execution_count": 111,
   "metadata": {},
   "outputs": [
    {
     "name": "stderr",
     "output_type": "stream",
     "text": [
      "  0%|          | 0/112184 [00:00<?, ?it/s]"
     ]
    },
    {
     "name": "stderr",
     "output_type": "stream",
     "text": [
      "100%|██████████| 112184/112184 [37:36<00:00, 49.71it/s] \n"
     ]
    }
   ],
   "source": [
    "# Função para recomendar itens\n",
    "\n",
    "# Salvo em MostRecentlyCatUsers\n",
    "\n",
    "def recommend_items(user):\n",
    "    user_cat_itens = ordered_categoria_itens.copy()\n",
    "\n",
    "    last_time = user_last_timestamp[user]\n",
    "    cats = user_cat_new[user]\n",
    "\n",
    "    rec_itens = []\n",
    "\n",
    "    for cat in cats:\n",
    "        if type(cat) == float: continue\n",
    "        \n",
    "        item_list = user_cat_itens[cat]\n",
    "\n",
    "        # Se a lista de itens da categoria estiver vazia, apenas continue\n",
    "        if len(item_list) == 0: continue\n",
    "\n",
    "        # Quero apenas os itens que tem o timestamp maior que o ultimo timestamp do meu user\n",
    "        item_list = [x for x in item_list if item_per_timestamp[x] > last_time]\n",
    "\n",
    "        if len(item_list) == 0: continue\n",
    "\n",
    "        item = item_list.pop(0)\n",
    "        rec_itens.append(item)\n",
    "        user_cat_itens[cat] = item_list\n",
    "\n",
    "    return rec_itens\n",
    "\n",
    "\n",
    "\n",
    "# Recomende itens para cada usuário\n",
    "recommended_items_by_user = {}\n",
    "\n",
    "for user in tqdm(user_last_timestamp.keys()):\n",
    "    recommended_items = recommend_items(user)\n",
    "    recommended_items_by_user[user] = recommended_items"
   ]
  },
  {
   "cell_type": "code",
   "execution_count": 98,
   "metadata": {},
   "outputs": [],
   "source": [
    "# recommended_items_by_user = open_file(\"FilterFeatures/MostRecentlyCatUserReverseFt2.pkl\")"
   ]
  },
  {
   "cell_type": "code",
   "execution_count": 5,
   "metadata": {},
   "outputs": [],
   "source": [
    "def save(path, obj):\n",
    "    with open(path, \"wb\") as f:\n",
    "        pkl.dump(obj, f)\n",
    "        f.close()"
   ]
  },
  {
   "cell_type": "code",
   "execution_count": 112,
   "metadata": {},
   "outputs": [],
   "source": [
    "save(\"FilterFeatures/MostRecentlyCatUserReverseFt2_val.pkl\", recommended_items_by_user)"
   ]
  },
  {
   "cell_type": "code",
   "execution_count": 1,
   "metadata": {},
   "outputs": [
    {
     "ename": "NameError",
     "evalue": "name 'open_file' is not defined",
     "output_type": "error",
     "traceback": [
      "\u001b[0;31m---------------------------------------------------------------------------\u001b[0m",
      "\u001b[0;31mNameError\u001b[0m                                 Traceback (most recent call last)",
      "Cell \u001b[0;32mIn[1], line 1\u001b[0m\n\u001b[0;32m----> 1\u001b[0m user_val \u001b[39m=\u001b[39m open_file(\u001b[39m\"\u001b[39m\u001b[39mDataPreProcessing/data_pro/train/UserItemIteractionsVal.pkl\u001b[39m\u001b[39m\"\u001b[39m)\n",
      "\u001b[0;31mNameError\u001b[0m: name 'open_file' is not defined"
     ]
    }
   ],
   "source": [
    "user_val = open_file(\"DataPreProcessing/data_pro/train/UserItemIteractionsVal.pkl\")"
   ]
  },
  {
   "cell_type": "code",
   "execution_count": 113,
   "metadata": {},
   "outputs": [],
   "source": [
    "for user, itens in recommended_items_by_user.items():\n",
    "    val_itens = user_val[user]\n",
    "    val_itens += itens\n",
    "    recommended_items_by_user[user] = val_itens"
   ]
  },
  {
   "cell_type": "markdown",
   "metadata": {},
   "source": [
    "## Mais similares"
   ]
  },
  {
   "cell_type": "code",
   "execution_count": 29,
   "metadata": {},
   "outputs": [
    {
     "data": {
      "text/html": [
       "<div>\n",
       "<style scoped>\n",
       "    .dataframe tbody tr th:only-of-type {\n",
       "        vertical-align: middle;\n",
       "    }\n",
       "\n",
       "    .dataframe tbody tr th {\n",
       "        vertical-align: top;\n",
       "    }\n",
       "\n",
       "    .dataframe thead th {\n",
       "        text-align: right;\n",
       "    }\n",
       "</style>\n",
       "<table border=\"1\" class=\"dataframe\">\n",
       "  <thead>\n",
       "    <tr style=\"text-align: right;\">\n",
       "      <th></th>\n",
       "      <th>userId</th>\n",
       "      <th>title</th>\n",
       "      <th>finetune</th>\n",
       "    </tr>\n",
       "  </thead>\n",
       "  <tbody>\n",
       "    <tr>\n",
       "      <th>0</th>\n",
       "      <td>f98d1132f60d46883ce49583257104d15ce723b3bbda21...</td>\n",
       "      <td>Você viu? 'Musa das Estradas' faz vídeo de pé,...</td>\n",
       "      <td>[0.8514806032180786, 0.9547808170318604, -0.98...</td>\n",
       "    </tr>\n",
       "    <tr>\n",
       "      <th>1</th>\n",
       "      <td>2c1080975e257ed630e26679edbe4d5c850c65f3e09f65...</td>\n",
       "      <td>Agosto Lilás: Itapetininga promove palestras d...</td>\n",
       "      <td>[-0.960038423538208, -0.8187256455421448, 0.29...</td>\n",
       "    </tr>\n",
       "    <tr>\n",
       "      <th>2</th>\n",
       "      <td>0adffd7450d3b9840d8c6215f0569ad942e782fb19b805...</td>\n",
       "      <td>'Estou arrependido. Fui covarde', diz homem su...</td>\n",
       "      <td>[0.6168979406356812, 0.8666552901268005, 0.008...</td>\n",
       "    </tr>\n",
       "    <tr>\n",
       "      <th>3</th>\n",
       "      <td>c1e8d644329a78ea1f994292db624c57980b2886cfbc2d...</td>\n",
       "      <td>VÍDEO: ‘Me ajuda, por favor! Não! Socorro!’, s...</td>\n",
       "      <td>[-0.9817279577255249, -0.9298797249794006, -0....</td>\n",
       "    </tr>\n",
       "    <tr>\n",
       "      <th>4</th>\n",
       "      <td>e777d1f31d4d955b63d60acc13df336d3903f52ab8f8f4...</td>\n",
       "      <td>Como fazer o empréstimo do Auxílio Brasil?Empr...</td>\n",
       "      <td>[-0.48284488916397095, 0.47778788208961487, -0...</td>\n",
       "    </tr>\n",
       "  </tbody>\n",
       "</table>\n",
       "</div>"
      ],
      "text/plain": [
       "                                              userId  \\\n",
       "0  f98d1132f60d46883ce49583257104d15ce723b3bbda21...   \n",
       "1  2c1080975e257ed630e26679edbe4d5c850c65f3e09f65...   \n",
       "2  0adffd7450d3b9840d8c6215f0569ad942e782fb19b805...   \n",
       "3  c1e8d644329a78ea1f994292db624c57980b2886cfbc2d...   \n",
       "4  e777d1f31d4d955b63d60acc13df336d3903f52ab8f8f4...   \n",
       "\n",
       "                                               title  \\\n",
       "0  Você viu? 'Musa das Estradas' faz vídeo de pé,...   \n",
       "1  Agosto Lilás: Itapetininga promove palestras d...   \n",
       "2  'Estou arrependido. Fui covarde', diz homem su...   \n",
       "3  VÍDEO: ‘Me ajuda, por favor! Não! Socorro!’, s...   \n",
       "4  Como fazer o empréstimo do Auxílio Brasil?Empr...   \n",
       "\n",
       "                                            finetune  \n",
       "0  [0.8514806032180786, 0.9547808170318604, -0.98...  \n",
       "1  [-0.960038423538208, -0.8187256455421448, 0.29...  \n",
       "2  [0.6168979406356812, 0.8666552901268005, 0.008...  \n",
       "3  [-0.9817279577255249, -0.9298797249794006, -0....  \n",
       "4  [-0.48284488916397095, 0.47778788208961487, -0...  "
      ]
     },
     "execution_count": 29,
     "metadata": {},
     "output_type": "execute_result"
    }
   ],
   "source": [
    "user_doc = open_file(\"datasets/out/user_finetune_title.pkl\")\n",
    "user_doc.head()"
   ]
  },
  {
   "cell_type": "code",
   "execution_count": 32,
   "metadata": {},
   "outputs": [],
   "source": [
    "user_doc = {user2index[user]:doc for user, doc in list(zip(list(user_doc['userId'].values), list(user_doc['finetune'].values)))}"
   ]
  },
  {
   "cell_type": "code",
   "execution_count": 35,
   "metadata": {},
   "outputs": [
    {
     "name": "stderr",
     "output_type": "stream",
     "text": [
      "100%|██████████| 112184/112184 [00:42<00:00, 2663.25it/s]\n"
     ]
    }
   ],
   "source": [
    "for user, itens in tqdm(recommended_items_by_user.items()):\n",
    "    u_doc = torch.Tensor(user_doc[user])\n",
    "\n",
    "    sims = []\n",
    "\n",
    "    for item in itens:\n",
    "        if type(item) == str:\n",
    "            i_doc = torch.Tensor(item_doc[item2index[item]])\n",
    "        else:\n",
    "            i_doc = torch.Tensor(item_doc[item])\n",
    "\n",
    "        sim = torch.dot(u_doc, i_doc)\n",
    "\n",
    "        if type(item) == str:\n",
    "            sims.append((item, sim))\n",
    "        else:\n",
    "            sims.append((index2item[item], sim.item()))\n",
    "\n",
    "    sims = sorted(sims, key=lambda x: x[1], reverse=True)\n",
    "\n",
    "    recommended_items_by_user[user] = [x[0] for x in sims]\n",
    "    "
   ]
  },
  {
   "cell_type": "markdown",
   "metadata": {},
   "source": [
    "## Teste"
   ]
  },
  {
   "cell_type": "code",
   "execution_count": 9,
   "metadata": {},
   "outputs": [],
   "source": [
    "times = [datetime.strptime(x, \"%Y-%m-%d %H:%M:%S%z\").timestamp() for x in list(item_docs['issued'].values)]\n",
    "item_per_timestamp = {item:timestamp for item,timestamp in list(zip(list(item_docs['page'].values), times))}"
   ]
  },
  {
   "cell_type": "code",
   "execution_count": 19,
   "metadata": {},
   "outputs": [],
   "source": [
    "new_user_rec = {}\n",
    "\n",
    "for user, itens in user_val.items():\n",
    "    train_itens = user_train[user]\n",
    "    # train_itens = sorted(train_itens, key=lambda item: item_per_timestamp[index2item[item]], reverse=True)\n",
    "    new_user_rec[user] = itens + train_itens\n",
    "    new_user_rec[user] = new_user_rec[user][:15]"
   ]
  },
  {
   "cell_type": "code",
   "execution_count": 28,
   "metadata": {},
   "outputs": [],
   "source": [
    "# for user, itens in new_user_rec.items():\n",
    "#     sorted_itens = sorted(itens, key=lambda item: item_per_timestamp[index2item[item]])\n",
    "#     new_user_rec[user] = sorted_itens"
   ]
  },
  {
   "cell_type": "markdown",
   "metadata": {},
   "source": [
    "## Terminar de preencher a lista do usuário pelos topk itens da base"
   ]
  },
  {
   "cell_type": "code",
   "execution_count": 47,
   "metadata": {},
   "outputs": [],
   "source": [
    "itens_2_count = user_train.values()\n",
    "itens_counting = {}\n",
    "\n",
    "for itens in itens_2_count:\n",
    "    for item in itens:\n",
    "        if item not in itens_counting.keys():\n",
    "            itens_counting[item] = 1\n",
    "        else:\n",
    "            itens_counting[item] += 1"
   ]
  },
  {
   "cell_type": "code",
   "execution_count": 55,
   "metadata": {},
   "outputs": [],
   "source": [
    "topk = dict(sorted(itens_counting.items(), key=lambda item: item[1], reverse=True))\n",
    "topk = topk.keys()"
   ]
  },
  {
   "cell_type": "code",
   "execution_count": 20,
   "metadata": {},
   "outputs": [],
   "source": [
    "toprecents = dict(sorted(item_per_timestamp.items(), key=lambda item: item[1]))\n",
    "toprecents = toprecents.keys()\n",
    "toprecents = [item2index[x] for x in toprecents]"
   ]
  },
  {
   "cell_type": "code",
   "execution_count": 13,
   "metadata": {},
   "outputs": [],
   "source": [
    "catrec = open_file(\"FilterFeatures/recently_user_cat_news.pkl\")"
   ]
  },
  {
   "cell_type": "code",
   "execution_count": 21,
   "metadata": {},
   "outputs": [],
   "source": [
    "for user, itens in new_user_rec.items():\n",
    "    if len(itens) < 15:\n",
    "        # for k in topk:\n",
    "        cat_rec = catrec[user]\n",
    "        for k in cat_rec:\n",
    "        # for k in toprecents:\n",
    "            if k not in itens:\n",
    "                itens.append(item2index[k])\n",
    "\n",
    "            if len(itens) == 15:\n",
    "                break\n",
    "\n",
    "        new_user_rec[user] = itens"
   ]
  },
  {
   "cell_type": "code",
   "execution_count": 22,
   "metadata": {},
   "outputs": [],
   "source": [
    "out = {\n",
    "    \"userId\": [],\n",
    "    \"acessos_futuros\": []\n",
    "}"
   ]
  },
  {
   "cell_type": "code",
   "execution_count": 23,
   "metadata": {},
   "outputs": [],
   "source": [
    "users = []\n",
    "access = []\n",
    "\n",
    "for user, itens in new_user_rec.items():\n",
    "    for item in itens:\n",
    "        users.append(index2user[user])\n",
    "\n",
    "        access.append(index2item[item])\n",
    "\n",
    "\n",
    "out[\"userId\"] = users\n",
    "out[\"acessos_futuros\"] = access"
   ]
  },
  {
   "cell_type": "code",
   "execution_count": 115,
   "metadata": {},
   "outputs": [],
   "source": [
    "users = []\n",
    "access = []\n",
    "\n",
    "for user, itens in recommended_items_by_user.items():\n",
    "    for item in itens:\n",
    "        users.append(index2user[user])\n",
    "\n",
    "        if type(item) == str:\n",
    "            access.append(item)\n",
    "        else:\n",
    "            access.append(index2item[item])\n",
    "\n",
    "out[\"userId\"] = users\n",
    "out[\"acessos_futuros\"] = access"
   ]
  },
  {
   "cell_type": "code",
   "execution_count": 24,
   "metadata": {},
   "outputs": [],
   "source": [
    "df = pd.DataFrame(out)\n",
    "df.to_csv(\"results2/ValTrainRecents_15.csv\", index=False)"
   ]
  },
  {
   "cell_type": "markdown",
   "metadata": {},
   "source": [
    "## Prog Trash"
   ]
  },
  {
   "cell_type": "code",
   "execution_count": 21,
   "metadata": {},
   "outputs": [],
   "source": [
    "user_train = {user:itens for user, items in user_train.items() if user in user_val.keys()}"
   ]
  },
  {
   "cell_type": "code",
   "execution_count": 26,
   "metadata": {},
   "outputs": [],
   "source": [
    "t = user_train[3]"
   ]
  },
  {
   "cell_type": "code",
   "execution_count": 27,
   "metadata": {},
   "outputs": [],
   "source": [
    "t2 = user_val[3]"
   ]
  },
  {
   "cell_type": "code",
   "execution_count": 28,
   "metadata": {},
   "outputs": [],
   "source": [
    "t = t + t2"
   ]
  },
  {
   "cell_type": "code",
   "execution_count": 31,
   "metadata": {},
   "outputs": [],
   "source": [
    "for i, item in enumerate(t):\n",
    "    if type(item) == int:\n",
    "        t[i] = index2item[item]"
   ]
  },
  {
   "cell_type": "code",
   "execution_count": 32,
   "metadata": {},
   "outputs": [
    {
     "data": {
      "text/plain": [
       "['35d5bc14-33bc-429c-9d18-1d12e721d3a4',\n",
       " 'f9d96d01-a23e-4e91-814f-aab763ef7925',\n",
       " 'a091120b-a832-44d5-94f4-b0225d53f26e',\n",
       " '0e99afbb-2452-470f-a76e-011ac2e1554a',\n",
       " 'cb5cb083-7ac1-4b35-a228-3de83bbab22e',\n",
       " 'eb23272d-8e6c-479d-b972-eabeb5f6f3dd',\n",
       " '40908b83-0102-4e6c-9467-58dd76658be0',\n",
       " 'c2fe4ec2-0a35-437b-86f3-f1ce1057fa68']"
      ]
     },
     "execution_count": 32,
     "metadata": {},
     "output_type": "execute_result"
    }
   ],
   "source": [
    "timestamps = open_file(\"FilterFeatures/\")"
   ]
  },
  {
   "cell_type": "code",
   "execution_count": 35,
   "metadata": {},
   "outputs": [],
   "source": [
    "times = [datetime.strptime(x, \"%Y-%m-%d %H:%M:%S%z\").timestamp() for x in list(item_docs['issued'].values)]\n",
    "item_per_timestamp = {item:timestamp for item,timestamp in list(zip(list(item_docs['page'].values), times))}"
   ]
  },
  {
   "cell_type": "code",
   "execution_count": 36,
   "metadata": {},
   "outputs": [],
   "source": [
    "t = [item_per_timestamp[x] for x in t]"
   ]
  },
  {
   "cell_type": "code",
   "execution_count": 37,
   "metadata": {},
   "outputs": [
    {
     "data": {
      "text/plain": [
       "[1660122741.0,\n",
       " 1659708864.0,\n",
       " 1659707371.0,\n",
       " 1659725023.0,\n",
       " 1659707517.0,\n",
       " 1660525594.0,\n",
       " 1660527969.0,\n",
       " 1660530097.0]"
      ]
     },
     "execution_count": 37,
     "metadata": {},
     "output_type": "execute_result"
    }
   ],
   "source": [
    "t"
   ]
  }
 ],
 "metadata": {
  "kernelspec": {
   "display_name": ".venv",
   "language": "python",
   "name": "python3"
  },
  "language_info": {
   "codemirror_mode": {
    "name": "ipython",
    "version": 3
   },
   "file_extension": ".py",
   "mimetype": "text/x-python",
   "name": "python",
   "nbconvert_exporter": "python",
   "pygments_lexer": "ipython3",
   "version": "3.10.12"
  },
  "orig_nbformat": 4
 },
 "nbformat": 4,
 "nbformat_minor": 2
}
